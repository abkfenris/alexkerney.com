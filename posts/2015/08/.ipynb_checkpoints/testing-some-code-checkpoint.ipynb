{
 "cells": [
  {
   "cell_type": "markdown",
   "metadata": {},
   "source": [
    "Write your post here.\n",
    "\n",
    "```python\n",
    "class RoomReservation(db.Model):\n",
    "    \"\"\"\n",
    "    Room Reservations\n",
    "    \"\"\"\n",
    "    __tablename__ = 'rooms_reservations'\n",
    "\n",
    "    res_id = db.Column(db.Integer, primary_key=True, index=True)\n",
    "    day_id = db.Column(db.Integer, db.ForeignKey('days.day_id'), index=True)\n",
    "    day = db.relationship('Day', backref='reservations')\n",
    "\n",
    "    room_id = db.Column(db.Integer, db.ForeignKey('rooms.room_id'), index=True)\n",
    "    room = db.relationship('Room', backref='reservations')\n",
    "\n",
    "    limit = db.Column(db.Integer)\n",
    "    notice = db.Column(db.Text)\n",
    "    students = db.relationship('Student', secondary=student_reservation,\n",
    "        backref=db.backref('reservations', lazy='dynamic'))\n",
    "\n",
    "    def __init__(self, day=None, room=None, limit=None, notice=None, students=None):\n",
    "        self.day = day\n",
    "        self.room = room\n",
    "        if limit:\n",
    "            self.limit = limit\n",
    "        else:\n",
    "            self.limit = room.occupancy\n",
    "        self.notice = notice\n",
    "        if students:\n",
    "            self.students = students\n",
    "            \n",
    "```"
   ]
  },
  {
   "cell_type": "code",
   "execution_count": 1,
   "metadata": {
    "collapsed": false
   },
   "outputs": [
    {
     "ename": "NameError",
     "evalue": "name 'db' is not defined",
     "output_type": "error",
     "traceback": [
      "\u001b[0;31m---------------------------------------------------------------------------\u001b[0m",
      "\u001b[0;31mNameError\u001b[0m                                 Traceback (most recent call last)",
      "\u001b[0;32m<ipython-input-1-b56bb891b34b>\u001b[0m in \u001b[0;36m<module>\u001b[0;34m()\u001b[0m\n\u001b[0;32m----> 1\u001b[0;31m \u001b[0;32mclass\u001b[0m \u001b[0mRoomReservation\u001b[0m\u001b[0;34m(\u001b[0m\u001b[0mdb\u001b[0m\u001b[0;34m.\u001b[0m\u001b[0mModel\u001b[0m\u001b[0;34m)\u001b[0m\u001b[0;34m:\u001b[0m\u001b[0;34m\u001b[0m\u001b[0m\n\u001b[0m\u001b[1;32m      2\u001b[0m     \"\"\"\n\u001b[1;32m      3\u001b[0m     \u001b[0mRoom\u001b[0m \u001b[0mReservations\u001b[0m\u001b[0;34m\u001b[0m\u001b[0m\n\u001b[1;32m      4\u001b[0m     \"\"\"\n\u001b[1;32m      5\u001b[0m     \u001b[0m__tablename__\u001b[0m \u001b[0;34m=\u001b[0m \u001b[0;34m'rooms_reservations'\u001b[0m\u001b[0;34m\u001b[0m\u001b[0m\n",
      "\u001b[0;31mNameError\u001b[0m: name 'db' is not defined"
     ]
    }
   ],
   "source": [
    "class RoomReservation(db.Model):\n",
    "    \"\"\"\n",
    "    Room Reservations\n",
    "    \"\"\"\n",
    "    __tablename__ = 'rooms_reservations'\n",
    "\n",
    "    res_id = db.Column(db.Integer, primary_key=True, index=True)\n",
    "    day_id = db.Column(db.Integer, db.ForeignKey('days.day_id'), index=True)\n",
    "    day = db.relationship('Day', backref='reservations')\n",
    "\n",
    "    room_id = db.Column(db.Integer, db.ForeignKey('rooms.room_id'), index=True)\n",
    "    room = db.relationship('Room', backref='reservations')\n",
    "\n",
    "    limit = db.Column(db.Integer)\n",
    "    notice = db.Column(db.Text)\n",
    "    students = db.relationship('Student', secondary=student_reservation,\n",
    "        backref=db.backref('reservations', lazy='dynamic'))\n",
    "\n",
    "    def __init__(self, day=None, room=None, limit=None, notice=None, students=None):\n",
    "        self.day = day\n",
    "        self.room = room\n",
    "        if limit:\n",
    "            self.limit = limit\n",
    "        else:\n",
    "            self.limit = room.occupancy\n",
    "        self.notice = notice\n",
    "        if students:\n",
    "            self.students = students"
   ]
  }
 ],
 "metadata": {
  "kernelspec": {
   "display_name": "Python 3",
   "language": "python",
   "name": "python3"
  },
  "language_info": {
   "codemirror_mode": {
    "name": "ipython",
    "version": 3
   },
   "file_extension": ".py",
   "mimetype": "text/x-python",
   "name": "python",
   "nbconvert_exporter": "python",
   "pygments_lexer": "ipython3",
   "version": "3.4.3"
  },
  "nikola": {
   "category": "",
   "date": "2015-07-31 18:49:42 UTC",
   "description": "",
   "link": "",
   "slug": "testing-some-code",
   "tags": "",
   "title": "Testing some code",
   "type": "text"
  }
 },
 "nbformat": 4,
 "nbformat_minor": 0
}
